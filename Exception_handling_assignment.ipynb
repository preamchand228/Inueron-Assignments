{
  "nbformat": 4,
  "nbformat_minor": 0,
  "metadata": {
    "colab": {
      "name": "Exception_handling_assignment.ipynb",
      "provenance": []
    },
    "kernelspec": {
      "name": "python3",
      "display_name": "Python 3"
    },
    "language_info": {
      "name": "python"
    }
  },
  "cells": [
    {
      "cell_type": "markdown",
      "metadata": {
        "id": "1bl3ilyQSme8"
      },
      "source": [
        "## Write a function to compute 5/0 and use try/except to catch the exceptions."
      ]
    },
    {
      "cell_type": "code",
      "metadata": {
        "colab": {
          "base_uri": "https://localhost:8080/"
        },
        "id": "kWVyuGlPQZqU",
        "outputId": "6840ffed-ae91-4487-820c-f6ce338b5c27"
      },
      "source": [
        "try:\n",
        "  b=5/0\n",
        "except ZeroDivisionError:\n",
        "  print(\" divide by zero error had occured\")  "
      ],
      "execution_count": 1,
      "outputs": [
        {
          "output_type": "stream",
          "text": [
            " divide by zero error had occured\n"
          ],
          "name": "stdout"
        }
      ]
    },
    {
      "cell_type": "markdown",
      "metadata": {
        "id": "E3mjRdOvSsnl"
      },
      "source": [
        "## Implement a Python program to generate all sentences where subject is in [\"Americans\", \"Indians\"] and verb is in [\"Play\", \"watch\"] and the object is in [\"Baseball\",\"cricket\"]."
      ]
    },
    {
      "cell_type": "code",
      "metadata": {
        "colab": {
          "base_uri": "https://localhost:8080/"
        },
        "id": "yqJqjQo4SgsQ",
        "outputId": "43c83e5d-2f91-400a-9ae4-f0f390946011"
      },
      "source": [
        "subjects=[\"Americans\",\"Indians\"]\n",
        "verbs=[\"play\",\"watch\"]\n",
        "objects=[\"Baseball\",\"Cricket\"]\n",
        "[ str(i)+'  '+str(j)+ '   '+str(k) for i in subjects for j in verbs for k in objects]\n"
      ],
      "execution_count": 5,
      "outputs": [
        {
          "output_type": "execute_result",
          "data": {
            "text/plain": [
              "['Americans  play   Baseball',\n",
              " 'Americans  play   Cricket',\n",
              " 'Americans  watch   Baseball',\n",
              " 'Americans  watch   Cricket',\n",
              " 'Indians  play   Baseball',\n",
              " 'Indians  play   Cricket',\n",
              " 'Indians  watch   Baseball',\n",
              " 'Indians  watch   Cricket']"
            ]
          },
          "metadata": {
            "tags": []
          },
          "execution_count": 5
        }
      ]
    }
  ]
}