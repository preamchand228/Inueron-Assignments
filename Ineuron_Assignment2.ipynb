{
  "nbformat": 4,
  "nbformat_minor": 0,
  "metadata": {
    "colab": {
      "name": "Ineuron_Assignment2.ipynb",
      "provenance": [],
      "collapsed_sections": []
    },
    "kernelspec": {
      "name": "python3",
      "display_name": "Python 3"
    },
    "language_info": {
      "name": "python"
    }
  },
  "cells": [
    {
      "cell_type": "markdown",
      "metadata": {
        "id": "2uV5a5As2aCQ"
      },
      "source": [
        "##Create the below pattern using nested for loop in Python."
      ]
    },
    {
      "cell_type": "code",
      "metadata": {
        "colab": {
          "base_uri": "https://localhost:8080/"
        },
        "id": "lciW6-4S2XxZ",
        "outputId": "af7acc3b-c609-4522-fc29-3ac2415bcc33"
      },
      "source": [
        "\n",
        "for i in range(6):\n",
        "  print('*'*i)\n",
        "for i in reversed(range(5)):\n",
        "  print('*'*i)  "
      ],
      "execution_count": 11,
      "outputs": [
        {
          "output_type": "stream",
          "text": [
            "\n",
            "*\n",
            "**\n",
            "***\n",
            "****\n",
            "*****\n",
            "****\n",
            "***\n",
            "**\n",
            "*\n",
            "\n"
          ],
          "name": "stdout"
        }
      ]
    },
    {
      "cell_type": "markdown",
      "metadata": {
        "id": "cO6hLhik4jOm"
      },
      "source": [
        "##Write a Python program to reverse a word after accepting the input from the user.\n",
        "\n",
        "Input word: ineuron\n",
        "Output: norueni"
      ]
    },
    {
      "cell_type": "code",
      "metadata": {
        "colab": {
          "base_uri": "https://localhost:8080/"
        },
        "id": "2MpKPQG-3s02",
        "outputId": "63c88a49-4b1d-4c4f-ba88-0b81e62f4ff9"
      },
      "source": [
        "str1=input(\"Enter the string you want to reverse:\")\n",
        "print(str1)\n",
        "out=''\n",
        "for char in reversed(str1):\n",
        "  #print(char)\n",
        "  out=out+out.join(char)\n",
        "print(out)  "
      ],
      "execution_count": 21,
      "outputs": [
        {
          "output_type": "stream",
          "text": [
            "Enter the string you want to reverse:ineuron\n",
            "ineuron\n",
            "n\n",
            "o\n",
            "r\n",
            "u\n",
            "e\n",
            "n\n",
            "i\n",
            "norueni\n"
          ],
          "name": "stdout"
        }
      ]
    },
    {
      "cell_type": "code",
      "metadata": {
        "colab": {
          "base_uri": "https://localhost:8080/"
        },
        "id": "RRKiC3Lj2rjy",
        "outputId": "8c936ec8-f240-4680-8b53-b02ede5c5045"
      },
      "source": [
        "print()"
      ],
      "execution_count": 2,
      "outputs": [
        {
          "output_type": "stream",
          "text": [
            "****\n"
          ],
          "name": "stdout"
        }
      ]
    }
  ]
}