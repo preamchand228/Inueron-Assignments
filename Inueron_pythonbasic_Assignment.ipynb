{
  "nbformat": 4,
  "nbformat_minor": 0,
  "metadata": {
    "colab": {
      "name": "Inueron_pythonbasic_Assignment.ipynb",
      "provenance": []
    },
    "kernelspec": {
      "name": "python3",
      "display_name": "Python 3"
    },
    "language_info": {
      "name": "python"
    }
  },
  "cells": [
    {
      "cell_type": "code",
      "metadata": {
        "id": "T2LjcnINPLVY"
      },
      "source": [
        ""
      ],
      "execution_count": null,
      "outputs": []
    },
    {
      "cell_type": "markdown",
      "metadata": {
        "id": "sg17s3C_PNpX"
      },
      "source": [
        "#Write a program which will find all such numbers which are divisible by 7 but are not multiple of 5, between 2000 and 3200 (both included). The numbers obtained should be printedin a comma-separated sequence on a single line."
      ]
    },
    {
      "cell_type": "code",
      "metadata": {
        "colab": {
          "base_uri": "https://localhost:8080/"
        },
        "id": "fIOWzl0iMeci",
        "outputId": "f9b683aa-270a-4f2b-db6b-0a522f209588"
      },
      "source": [
        "result=[]\n",
        "for i in range(2000,3201):\n",
        "  if((i%7==0) and  (i%5!=0)):\n",
        "    #print(\"inside\")\n",
        "    result.append(i)\n",
        "print(result)    \n"
      ],
      "execution_count": 11,
      "outputs": [
        {
          "output_type": "stream",
          "text": [
            "[2002, 2009, 2016, 2023, 2037, 2044, 2051, 2058, 2072, 2079, 2086, 2093, 2107, 2114, 2121, 2128, 2142, 2149, 2156, 2163, 2177, 2184, 2191, 2198, 2212, 2219, 2226, 2233, 2247, 2254, 2261, 2268, 2282, 2289, 2296, 2303, 2317, 2324, 2331, 2338, 2352, 2359, 2366, 2373, 2387, 2394, 2401, 2408, 2422, 2429, 2436, 2443, 2457, 2464, 2471, 2478, 2492, 2499, 2506, 2513, 2527, 2534, 2541, 2548, 2562, 2569, 2576, 2583, 2597, 2604, 2611, 2618, 2632, 2639, 2646, 2653, 2667, 2674, 2681, 2688, 2702, 2709, 2716, 2723, 2737, 2744, 2751, 2758, 2772, 2779, 2786, 2793, 2807, 2814, 2821, 2828, 2842, 2849, 2856, 2863, 2877, 2884, 2891, 2898, 2912, 2919, 2926, 2933, 2947, 2954, 2961, 2968, 2982, 2989, 2996, 3003, 3017, 3024, 3031, 3038, 3052, 3059, 3066, 3073, 3087, 3094, 3101, 3108, 3122, 3129, 3136, 3143, 3157, 3164, 3171, 3178, 3192, 3199]\n"
          ],
          "name": "stdout"
        }
      ]
    },
    {
      "cell_type": "markdown",
      "metadata": {
        "id": "81FuBs-QPaWo"
      },
      "source": [
        "# 2. Write a Python program to accept the user's first and last name and then getting them printed in the the reverse order with a space between first name and last name"
      ]
    },
    {
      "cell_type": "code",
      "metadata": {
        "colab": {
          "base_uri": "https://localhost:8080/"
        },
        "id": "7sV5_kOlPtMZ",
        "outputId": "2397658a-194a-4e99-c2fd-d5f0a9ae361e"
      },
      "source": [
        "fname=input(\" Enter your first name :\")\n",
        "lname=input(\"Enter your last name :\")\n",
        "print(fname[::-1]+ ' '+ lname[::-1])\n"
      ],
      "execution_count": 19,
      "outputs": [
        {
          "output_type": "stream",
          "text": [
            " Enter your first name :premchand\n",
            "Enter your last name :Dhanukonda\n",
            "dnahcmerp adnokunahD\n"
          ],
          "name": "stdout"
        }
      ]
    },
    {
      "cell_type": "markdown",
      "metadata": {
        "id": "oNGOMc58RbS3"
      },
      "source": [
        "#Write a Python program to find the volume of a sphere with diameter 12 cm. Formula: V=4/3 * π * r3"
      ]
    },
    {
      "cell_type": "code",
      "metadata": {
        "colab": {
          "base_uri": "https://localhost:8080/"
        },
        "id": "6BwZuG8ZQajW",
        "outputId": "226df8b1-83af-4606-f82a-679a7afee4a0"
      },
      "source": [
        "diameter=12\n",
        "radius=diameter/2\n",
        "pi=3.141592653589793\n",
        "result=(4/3)*pi*radius**3\n",
        "print(\"Volume of sphere is {}\".format(result))"
      ],
      "execution_count": 24,
      "outputs": [
        {
          "output_type": "stream",
          "text": [
            "Volume of sphere is 904.7786842338603\n"
          ],
          "name": "stdout"
        }
      ]
    },
    {
      "cell_type": "code",
      "metadata": {
        "colab": {
          "base_uri": "https://localhost:8080/"
        },
        "id": "7ZDsDtPHSkPP",
        "outputId": "7c9e54dd-0a88-4604-be5d-455cdb8410ca"
      },
      "source": [
        "import numpy as np\n",
        "print(np.pi)"
      ],
      "execution_count": 21,
      "outputs": [
        {
          "output_type": "stream",
          "text": [
            "3.141592653589793\n"
          ],
          "name": "stdout"
        }
      ]
    }
  ]
}