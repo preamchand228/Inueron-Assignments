{
  "nbformat": 4,
  "nbformat_minor": 0,
  "metadata": {
    "colab": {
      "name": "Python_Assignment4.ipynb",
      "provenance": []
    },
    "kernelspec": {
      "name": "python3",
      "display_name": "Python 3"
    },
    "language_info": {
      "name": "python"
    }
  },
  "cells": [
    {
      "cell_type": "markdown",
      "metadata": {
        "id": "Ay_-axSweGe8"
      },
      "source": [
        "1.1 Write a Python Program(with class concepts) to find the area of the triangle using the below\n",
        "formula.\n",
        "area = (s*(s-a)*(s-b)*(s-c)) ** 0.5\n",
        "Function to take the length of the sides of triangle from user should be defined in the parent\n",
        "class and function to calculate the area should be defined in subclass."
      ]
    },
    {
      "cell_type": "markdown",
      "metadata": {
        "id": "r6Pne_XYgSjG"
      },
      "source": [
        "## Parent class"
      ]
    },
    {
      "cell_type": "code",
      "metadata": {
        "id": "EgFfO-YvdnCV"
      },
      "source": [
        "class areainterface:\n",
        "    def __init__(self,a,b,c):\n",
        "        self.a = float(a)\n",
        "        self.b = float(b)\n",
        "        self.c = float(c)\n",
        "\n",
        "\n",
        "\n"
      ],
      "execution_count": 10,
      "outputs": []
    },
    {
      "cell_type": "markdown",
      "metadata": {
        "id": "JECJ_InFgWJ9"
      },
      "source": [
        "### Sub class"
      ]
    },
    {
      "cell_type": "code",
      "metadata": {
        "id": "uoKr1g_Tfkwi"
      },
      "source": [
        "class trianglearea(areainterface):\n",
        "    def __init__(self,a,b,c):\n",
        "        super().__init__(a,b,c)\n",
        "\n",
        "    def get_area(self):\n",
        "        s = (a + b + c) / 2\n",
        "        return (s*(s-a)*(s-b)*(s-c)) ** 0.5        \n"
      ],
      "execution_count": 7,
      "outputs": []
    },
    {
      "cell_type": "markdown",
      "metadata": {
        "id": "yu-q5aYNgaKy"
      },
      "source": [
        "## Calling the subclass function"
      ]
    },
    {
      "cell_type": "code",
      "metadata": {
        "colab": {
          "base_uri": "https://localhost:8080/"
        },
        "id": "nHSP61lNfncL",
        "outputId": "4058cdb9-1ce0-4066-94c7-759455cc6241"
      },
      "source": [
        "a= int(input(\"a=\"))\n",
        "b= int(input(\"b=\"))\n",
        "c= int(input(\"c=\"))\n",
        "t = trianglearea(a,b,c)\n",
        "print(\"area : {}\".format(t.get_area()))"
      ],
      "execution_count": 9,
      "outputs": [
        {
          "output_type": "stream",
          "text": [
            "a=10\n",
            "b=15\n",
            "c=20\n",
            "area : 72.61843774138907\n"
          ],
          "name": "stdout"
        }
      ]
    },
    {
      "cell_type": "markdown",
      "metadata": {
        "id": "uo4OZMEQgs3W"
      },
      "source": [
        "## 1.2 Write a function filter_long_words() that takes a list of words and an integer n and returns the list of words that are longer than n."
      ]
    },
    {
      "cell_type": "code",
      "metadata": {
        "id": "SNzt9em3gzum"
      },
      "source": [
        "def filter_long_words(list , integer):\n",
        "  return [ l for l in list if len(l)>integer]"
      ],
      "execution_count": 13,
      "outputs": []
    },
    {
      "cell_type": "code",
      "metadata": {
        "colab": {
          "base_uri": "https://localhost:8080/"
        },
        "id": "nt-sAlgYhRet",
        "outputId": "aa9e2e2a-41d7-4075-a694-46c399df1e23"
      },
      "source": [
        "list1=['aa','mmmmmmm','bbbbb','cccc','ddddd']\n",
        "n=2\n",
        "filter_long_words(list1,n)"
      ],
      "execution_count": 14,
      "outputs": [
        {
          "output_type": "execute_result",
          "data": {
            "text/plain": [
              "['mmmmmmm', 'bbbbb', 'cccc', 'ddddd']"
            ]
          },
          "metadata": {
            "tags": []
          },
          "execution_count": 14
        }
      ]
    },
    {
      "cell_type": "markdown",
      "metadata": {
        "id": "II-vLu7jh1Gt"
      },
      "source": [
        "## 2.1 Write a Python program using function concept that maps list of words into a list of integers representing the lengths of the corresponding words.Hint: If a list [ ab,cde,erty] is passed on to the python function output should come as [2,3,4] Here 2,3 and 4 are the lengths of the words in the list."
      ]
    },
    {
      "cell_type": "code",
      "metadata": {
        "id": "x_yoWnAnh0Ao"
      },
      "source": [
        "def convert_char_numcnt(list1):\n",
        "  return  list(map(lambda i : len(i),list1))"
      ],
      "execution_count": 24,
      "outputs": []
    },
    {
      "cell_type": "code",
      "metadata": {
        "colab": {
          "base_uri": "https://localhost:8080/"
        },
        "id": "8Xvw6DWRiN6s",
        "outputId": "dbfd3178-d5a6-4d07-a4b6-770cf62c0875"
      },
      "source": [
        "convert_char_numcnt(list1)"
      ],
      "execution_count": 25,
      "outputs": [
        {
          "output_type": "execute_result",
          "data": {
            "text/plain": [
              "[2, 7, 5, 4, 5]"
            ]
          },
          "metadata": {
            "tags": []
          },
          "execution_count": 25
        }
      ]
    },
    {
      "cell_type": "markdown",
      "metadata": {
        "id": "8SiVayJKjOTF"
      },
      "source": [
        "## 2.2 Write a Python function which takes a character (i.e. a string of length 1) and returns True if it is a vowel, False otherwise."
      ]
    },
    {
      "cell_type": "code",
      "metadata": {
        "id": "j_-Kj-_TibHa"
      },
      "source": [
        "def vowelscheck(char):\n",
        "  if char in ['a','e','i','o','u']:\n",
        "    return True\n",
        "  else: \n",
        "    return False  \n",
        "  "
      ],
      "execution_count": 26,
      "outputs": []
    },
    {
      "cell_type": "code",
      "metadata": {
        "colab": {
          "base_uri": "https://localhost:8080/"
        },
        "id": "A3LdMruSkH16",
        "outputId": "e60678c0-cc34-4a6c-81fc-7863103352f1"
      },
      "source": [
        "vowelscheck('a')"
      ],
      "execution_count": 28,
      "outputs": [
        {
          "output_type": "execute_result",
          "data": {
            "text/plain": [
              "True"
            ]
          },
          "metadata": {
            "tags": []
          },
          "execution_count": 28
        }
      ]
    }
  ]
}